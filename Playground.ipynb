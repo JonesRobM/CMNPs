{
 "cells": [
  {
   "cell_type": "code",
   "execution_count": 2,
   "metadata": {},
   "outputs": [],
   "source": [
    "import numpy as np\n",
    "import os\n",
    "import subprocess"
   ]
  },
  {
   "cell_type": "code",
   "execution_count": 3,
   "metadata": {},
   "outputs": [],
   "source": [
    "try:\n",
    "    from ase.io import read, write\n",
    "except ImportError:\n",
    "    print(\"No ASE found. Installing it now.\")\n",
    "    subprocess.run([\"pip\", \"install\", \"ase\"])\n",
    "try:\n",
    "    import pyGDM2\n",
    "except ImportError:\n",
    "    print(\"No GDM found. Installing it now.\")\n",
    "    subprocess.run([\"pip\", \"install\", \"pyGDM2\"])"
   ]
  }
 ],
 "metadata": {
  "kernelspec": {
   "display_name": "CompEnv",
   "language": "python",
   "name": "python3"
  },
  "language_info": {
   "codemirror_mode": {
    "name": "ipython",
    "version": 3
   },
   "file_extension": ".py",
   "mimetype": "text/x-python",
   "name": "python",
   "nbconvert_exporter": "python",
   "pygments_lexer": "ipython3",
   "version": "3.11.5"
  }
 },
 "nbformat": 4,
 "nbformat_minor": 2
}

{
 "cells": [
  {
   "cell_type": "code",
   "execution_count": 6,
   "metadata": {},
   "outputs": [],
   "source": [
    "import numpy as np\n",
    "import matplotlib.pyplot as plt\n",
    "import sys\n",
    "sys.path.insert(0, 'Light/')\n",
    "\n",
    "from Light import Spectra, Epsilon_ExpClass #For optical response with the pygdm package "
   ]
  },
  {
   "cell_type": "code",
   "execution_count": 90,
   "metadata": {},
   "outputs": [],
   "source": [
    "Au = Epsilon_ExpClass.Au()\n",
    "eps_r = Au.n_real\n",
    "eps_i = Au.n_imag\n",
    "\n",
    "wl = Au.wl\n",
    "\n",
    "eps = complex(1,0)*eps_r + complex(0,1)*eps_i\n",
    "\n",
    "alpha = 4 * np.pi * (10E-9) *( ( eps - 1 ) / ( eps + 2 ) )"
   ]
  },
  {
   "cell_type": "code",
   "execution_count": null,
   "metadata": {},
   "outputs": [],
   "source": [
    "fig, ax = plt.subplots()\n",
    "\n",
    "ax.plot(wl, np.imag(alpha), color='r', linestyle = '-', label = r\"$\\Im[\\alpha]$\")\n",
    "ax.plot(wl, np.real(alpha), color='g', linestyle = '-', label = r\"$\\Re[\\alpha]$\")  \n",
    "ax2 = ax.twinx()\n",
    "ax2.plot(wl, np.angle(alpha), color='k', linestyle='--', label = r\"$Arg[\\alpha]$\")\n",
    "ax.set_xlim(300,1000)\n",
    "\n",
    "ax.set_yticklabels([])\n",
    "ax2.set_yticklabels([])\n",
    "ax.set_xlabel(r'$\\lambda$ [nm]')\n",
    "fig.legend( ncol = 3, bbox_to_anchor=(0.5, 1.01), loc='upper center', fontsize = 14)"
   ]
  },
  {
   "cell_type": "code",
   "execution_count": null,
   "metadata": {},
   "outputs": [],
   "source": [
    "import numpy as np\n",
    "import matplotlib.pyplot as plt\n",
    "import matplotlib.animation as animation\n",
    "from PIL import Image"
   ]
  },
  {
   "cell_type": "markdown",
   "metadata": {},
   "source": [
    "## Polarisation\n",
    "\n",
    "Circularly polarised light is a special form of electromagnetic radiation in which the electric field vector rotates in a helical manner as the wave propagates. Unlike linearly polarised light, where the electric field oscillates in a fixed plane, circularly polarised light's electric field traces a spiral in space.\n",
    "\n",
    "### How It Works\n",
    "The electric field components in the  x- and y-directions have equal magnitudes but oscillate with a phase difference of \n",
    "#### $\\pm \\frac{\\pi}{2}$​\n",
    "This phase shift causes the resultant electric field vector to continuously rotate in a circular motion.\n",
    "\n",
    "We'll start by visualising our plane waves propagating and observe how their polarisation vector evolves.\n",
    "\n",
    "## Task\n",
    "\n",
    "### Can you edit the code to create circular and elliptically polarised light? \n",
    "### How does this function? \n",
    "### Can you change the direction of the polarisation ellipse?"
   ]
  },
  {
   "cell_type": "code",
   "execution_count": 82,
   "metadata": {},
   "outputs": [],
   "source": [
    "#Because people often complain that I neglect units in favour of looking at the behaviour of functions\n",
    "#I do not want you to adopt my bad habits\n",
    "#Therefore, we will pre-define all field parameters w.r.t physical constants and observables \n",
    "\n",
    "c = 3e8  # Speed of light (m/s)\n",
    "lambda_ = 500e-9  # Wavelength (m)\n",
    "k = 2 * np.pi / lambda_  # Wave number\n",
    "omega = c * k  # Angular frequency\n",
    "time = np.linspace(-4*np.pi / omega, 4 * np.pi / omega, 201)  # Time array w.r.t angular frequency\n",
    "x = np.linspace(-5 * lambda_, 5 * lambda_, 201)  # Space array\n",
    "\n",
    "X,T = np.meshgrid(x, time)\n",
    "# Define electric and magnetic field components\n",
    "E0 = 1  #Electric-field amplitude in arbitrary units\n",
    "\n",
    "E = E0 * np.exp(complex(0, -1) * (( time * omega) - (k * x)   ))\n",
    "\n",
    "E_vec = np.array([E*complex(1,0), E*complex(0,0)], dtype = np.complex64)"
   ]
  },
  {
   "cell_type": "code",
   "execution_count": null,
   "metadata": {},
   "outputs": [],
   "source": [
    "fig, axes = plt.subplots(1, 2, figsize=(10, 5))\n",
    "ax1, ax2 = axes.flatten()\n",
    "\n",
    "ax1.set_xlim(1.05*-4*np.pi / omega, 1.05*4*np.pi / omega,)\n",
    "ax1.set_ylim(-1.05*E0, 1.05*E0)\n",
    "ax2.set_xlim(-1.05*E0, 1.05*E0)\n",
    "ax2.set_ylim(-1.05*E0, 1.05*E0)\n",
    "ax1.set_xlabel(\"Time [arbs.]\")\n",
    "ax1.set_ylabel(\"|E| [arbs.]\")\n",
    "ax2.set_xlabel(r\"$E_{x}$ [arbs.]\")\n",
    "ax2.set_ylabel(r\"$E_{y}$ [arbs.]\")\n",
    "\n",
    "ax1.set_xticklabels([])\n",
    "ax1.set_yticklabels([])\n",
    "\n",
    "ax2.set_xticklabels([])\n",
    "ax2.set_yticklabels([])\n",
    "\n",
    "line1, = ax1.plot([], [], 'b-', lw=2)\n",
    "point, = ax2.plot([], [], 'ro', markersize=5)\n",
    "trail, = ax2.plot([], [], 'r-', lw=1)\n",
    "trail_data = []\n",
    "\n",
    "# Animation function\n",
    "def update(frame):\n",
    "    line1.set_data(time, np.real( np.exp(complex(0,-1)*frame)  * E ))\n",
    "    \n",
    "    ex_val = np.real(E_vec[0][frame])\n",
    "    ey_val = np.real(E_vec[1][frame])\n",
    "    trail_data.append([ex_val, ey_val])\n",
    "    trail.set_data(*zip(*trail_data))\n",
    "    point.set_data(ex_val, ey_val)\n",
    "    \n",
    "    return line1, point, trail\n",
    "\n",
    "ani = animation.FuncAnimation(fig, update, frames=len(time), interval=10, blit=True)\n",
    "\n",
    "# Save as GIF\n",
    "ani.save(\"Polarisation.gif\", writer=\"pillow\", fps=20)\n",
    "\n",
    "plt.show()\n"
   ]
  }
 ],
 "metadata": {
  "kernelspec": {
   "display_name": "Python 3",
   "language": "python",
   "name": "python3"
  },
  "language_info": {
   "codemirror_mode": {
    "name": "ipython",
    "version": 3
   },
   "file_extension": ".py",
   "mimetype": "text/x-python",
   "name": "python",
   "nbconvert_exporter": "python",
   "pygments_lexer": "ipython3",
   "version": "3.10.12"
  }
 },
 "nbformat": 4,
 "nbformat_minor": 2
}

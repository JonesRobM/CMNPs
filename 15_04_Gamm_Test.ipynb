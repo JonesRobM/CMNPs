{
 "cells": [
  {
   "cell_type": "code",
   "execution_count": 31,
   "id": "b5273b63",
   "metadata": {},
   "outputs": [],
   "source": [
    "from pyGDM2 import structures\n",
    "from pyGDM2 import fields\n",
    "from pyGDM2 import core\n",
    "from pyGDM2 import propagators\n",
    "from pyGDM2 import tools\n",
    "from pyGDM2 import linear\n",
    "from pyGDM2 import visu\n",
    "\n",
    "import sys\n",
    "import numpy as np\n",
    "import matplotlib.pyplot as plt\n",
    "import matplotlib.ticker as ticker\n",
    "\n",
    "from scipy.signal import find_peaks\n",
    "from ase.io import read\n",
    "import ase\n",
    "\n",
    "sys.path.insert(0, 'Light/'); sys.path.insert(0, 'Building/')\n",
    "from Light import Epsilon_ExpClass #For optical response with the pygdm package "
   ]
  },
  {
   "cell_type": "code",
   "execution_count": 32,
   "id": "e89b1392",
   "metadata": {},
   "outputs": [],
   "source": [
    "def Optimise(Step, g, m):\n",
    "    Struct = structures.struct(Step, g, m, verbose = False, normalization=\"hex\")\n",
    "\n",
    "    print(len(Struct.geometry), len(g))\n",
    "    while len(Struct.geometry) < len(g):\n",
    "        Step -= 0.01\n",
    "        Struct = structures.struct(Step, g, m, verbose = False, normalization=\"hex\")\n",
    "    return Struct"
   ]
  },
  {
   "cell_type": "code",
   "execution_count": 37,
   "id": "993421f4",
   "metadata": {},
   "outputs": [
    {
     "name": "stdout",
     "output_type": "stream",
     "text": [
      "Number of atoms:  49\n",
      "Number of elements:  1\n",
      "Elements:  ['Au']\n",
      "49\n",
      "49\n",
      "49 49\n"
     ]
    }
   ],
   "source": [
    "Strut = read(\"Structures/Gamm_2_R.xyz\")\n",
    "ele = Strut.get_chemical_symbols()\n",
    "Ele = list(set(ele))\n",
    "Strut.positions -= Strut.get_center_of_mass()\n",
    "xyz = Strut.positions\n",
    "g = xyz\n",
    "m = len(g)*[getattr(Epsilon_ExpClass, Ele[0])()]\n",
    "\n",
    "geo_unique, idx_non_duplicate = np.unique(np.round(g, 5), axis=0, return_index=True)\n",
    "geo_duplicate = np.delete(g, idx_non_duplicate, axis=0)\n",
    "\n",
    "print(\"Number of atoms: \", len(g))\n",
    "print(\"Number of elements: \", len(Ele))\n",
    "print(\"Elements: \", Ele)\n",
    "print(len(m))\n",
    "print(len(xyz))\n",
    "\n",
    "Struct = Optimise(2.77, g, m)"
   ]
  },
  {
   "cell_type": "code",
   "execution_count": 34,
   "id": "b816a801",
   "metadata": {},
   "outputs": [
    {
     "name": "stdout",
     "output_type": "stream",
     "text": [
      "19 19\n"
     ]
    }
   ],
   "source": [
    "Strut = read(\"Structures/Hex.xyz\")\n",
    "ele = Strut.get_chemical_symbols()\n",
    "Ele = list(set(ele))\n",
    "Strut.positions -= Strut.get_center_of_mass()\n",
    "xyz = Strut.positions\n",
    "g = xyz\n",
    "m = len(g)*[getattr(Epsilon_ExpClass, Ele[0])()]\n",
    "Struct = Optimise(2.77, g, m)"
   ]
  }
 ],
 "metadata": {
  "kernelspec": {
   "display_name": "CompEnv",
   "language": "python",
   "name": "python3"
  },
  "language_info": {
   "codemirror_mode": {
    "name": "ipython",
    "version": 3
   },
   "file_extension": ".py",
   "mimetype": "text/x-python",
   "name": "python",
   "nbconvert_exporter": "python",
   "pygments_lexer": "ipython3",
   "version": "3.11.5"
  }
 },
 "nbformat": 4,
 "nbformat_minor": 5
}

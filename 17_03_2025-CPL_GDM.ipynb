{
 "cells": [
  {
   "cell_type": "code",
   "execution_count": 2,
   "metadata": {},
   "outputs": [],
   "source": [
    "from pyGDM2 import structures\n",
    "from pyGDM2 import fields\n",
    "from pyGDM2 import core\n",
    "from pyGDM2 import propagators\n",
    "from pyGDM2 import tools\n",
    "from pyGDM2 import linear\n",
    "from pyGDM2 import visu\n",
    "\n",
    "import sys\n",
    "import numpy as np\n",
    "import matplotlib.pyplot as plt\n",
    "from ase.io import read\n",
    "\n",
    "sys.path.insert(0, 'Light/'); sys.path.insert(0, 'Building/')\n",
    "from Light import Epsilon_ExpClass #For optical response with the pygdm package "
   ]
  },
  {
   "cell_type": "code",
   "execution_count": 3,
   "metadata": {},
   "outputs": [
    {
     "name": "stdout",
     "output_type": "stream",
     "text": [
      "structure initialization - automatic mesh detection: hex\n",
      "structure initialization - consistency check: 344/344 dipoles valid\n"
     ]
    }
   ],
   "source": [
    "Strut = read(\"Ag_344.xyz\")\n",
    "ele = Strut.get_chemical_symbols()\n",
    "Ele = list(set(ele))\n",
    "Strut.positions -= Strut.get_center_of_mass()\n",
    "xyz = Strut.positions\n",
    "g = xyz\n",
    "m = len(g)*[getattr(Epsilon_ExpClass, Ele[0])()]\n",
    "Struct = structures.struct(2.88, g, m)"
   ]
  },
  {
   "cell_type": "code",
   "execution_count": null,
   "metadata": {},
   "outputs": [],
   "source": [
    "field_generator = fields.plane_wave\n",
    "wavelengths = np.linspace(300, 800, 201)\n",
    "kwargs = dict(inc_angle=180, E_s=1, E_p=1, phase_Es=[-np.pi/2]) \n",
    "efield = fields.efield(field_generator, wavelengths=wavelengths, kwargs=kwargs)\n",
    "\n",
    "dyads = propagators.DyadsQuasistatic123(n1=1)\n",
    "sim = core.simulation(Struct, efield, dyads)\n",
    "sim.scatter()"
   ]
  },
  {
   "cell_type": "code",
   "execution_count": null,
   "metadata": {},
   "outputs": [
    {
     "name": "stdout",
     "output_type": "stream",
     "text": [
      "config 0 : {'E_p': 1, 'E_s': 1, 'inc_angle': 180, 'phase_Es': -1.5707963267948966}\n"
     ]
    }
   ],
   "source": [
    "field_kwargs = tools.get_possible_field_params_spectra(sim)\n",
    "for i, conf in enumerate(field_kwargs):\n",
    "    print(\"config\", i, \":\", conf)\n",
    "search_dict = dict(wavelength=400)\n",
    "idx = tools.get_closest_field_index(sim, search_dict)\n",
    "a_ext, a_scat, a_abs = linear.extinct(sim, 0,idx)\n",
    "print(\"cross sections:\")\n",
    "print(\"    extinction = {:.2f} nm^2\".format(float(a_ext)))\n",
    "print(\"    scattering = {:.2f} nm^2\".format(float(a_scat)))\n",
    "print(\"    absorption = {:.2f} nm^2\".format(float(a_abs)))\n",
    "wl, spec = tools.calculate_spectrum(sim, 0, linear.extinct)\n",
    "ex,sc,ab = spec.T"
   ]
  },
  {
   "cell_type": "code",
   "execution_count": 12,
   "metadata": {},
   "outputs": [
    {
     "name": "stderr",
     "output_type": "stream",
     "text": [
      "/home/robert/MyEnv/lib/python3.10/site-packages/pyGDM2/linear.py:617: UserWarning: No H-values inside structure calculated. Setting internal magnetic field zero. Please run 'scatter' with the according parameter.\n",
      "  warnings.warn(\"No H-values inside structure calculated. Setting internal magnetic field zero. \" +\n"
     ]
    }
   ],
   "source": [
    "## --- calculate the C spectrum at top of the center between rods\n",
    "Z_probe = 0\n",
    "\n",
    "## L-dimer\n",
    "wl, Cspec = tools.calculate_spectrum(sim, 0, linear.optical_chirality, r_probe=[[0,0,Z_probe]])\n",
    "C_spec_R = Cspec.T\n",
    "\n",
    "r_probe = tools.generate_NF_map(-30,+30,101, -30,30,101, Z0=Z_probe)\n",
    "\n",
    "C_R = linear.optical_chirality(sim, idx, r_probe, which_field='0')"
   ]
  },
  {
   "cell_type": "code",
   "execution_count": 15,
   "metadata": {},
   "outputs": [
    {
     "name": "stderr",
     "output_type": "stream",
     "text": [
      "/home/robert/MyEnv/lib/python3.10/site-packages/pyGDM2/visu.py:49: UserWarning: 3D data. Falling back to XY projection...\n",
      "  warnings.warn(\"3D data. Falling back to XY projection...\")\n"
     ]
    },
    {
     "data": {
      "text/plain": [
       "(-30.0, 30.0)"
      ]
     },
     "execution_count": 15,
     "metadata": {},
     "output_type": "execute_result"
    },
    {
     "data": {
      "image/png": "[encoded data removed]",
      "text/plain": [
       "<Figure size 640x480 with 2 Axes>"
      ]
     },
     "metadata": {},
     "output_type": "display_data"
    }
   ],
   "source": [
    "im = visu.scalarfield(C_R, cmap='jet', show=0, interpolation='nearest')\n",
    "\n",
    "plt.colorbar(im, label='C / C_RCP')\n",
    "im.set_clim(-2.5, 2.5)\n",
    "visu.structure_contour(sim, color='k', show=0, lw = 4)\n",
    "plt.xlim(-30, 30)\n",
    "plt.ylim(-30, 30)"
   ]
  }
 ],
 "metadata": {
  "kernelspec": {
   "display_name": "MyEnv",
   "language": "python",
   "name": "python3"
  },
  "language_info": {
   "codemirror_mode": {
    "name": "ipython",
    "version": 3
   },
   "file_extension": ".py",
   "mimetype": "text/x-python",
   "name": "python",
   "nbconvert_exporter": "python",
   "pygments_lexer": "ipython3",
   "version": "3.10.12"
  }
 },
 "nbformat": 4,
 "nbformat_minor": 2
}

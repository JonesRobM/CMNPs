{
 "cells": [
  {
   "cell_type": "code",
   "execution_count": 9,
   "metadata": {},
   "outputs": [],
   "source": [
    "from pyGDM2 import structures\n",
    "from pyGDM2 import materials\n",
    "from pyGDM2 import fields\n",
    "import sys\n",
    "sys.path.insert(0, 'Light/'); sys.path.insert(0, 'Building/')\n",
    "from Light import Epsilon_ExpClass #For optical response with the pygdm package \n",
    "from pyGDM2 import core\n",
    "from pyGDM2 import propagators\n",
    "from pyGDM2 import tools\n",
    "from pyGDM2 import linear\n",
    "from pyGDM2 import visu\n",
    "\n",
    "import numpy as np\n",
    "import matplotlib.pyplot as plt\n",
    "from ase.io import write,read"
   ]
  },
  {
   "cell_type": "code",
   "execution_count": 13,
   "metadata": {},
   "outputs": [
    {
     "name": "stdout",
     "output_type": "stream",
     "text": [
      "structure initialization - automatic mesh detection: hex\n",
      "structure initialization - consistency check: 344/344 dipoles valid\n"
     ]
    }
   ],
   "source": [
    "Strut = read(\"Ag_344.xyz\")\n",
    "ele = Strut.get_chemical_symbols()\n",
    "Ele = list(set(ele))\n",
    "Strut.positions -= Strut.get_center_of_mass()\n",
    "xyz = Strut.positions\n",
    "g = xyz\n",
    "m = len(g)*[getattr(Epsilon_ExpClass, Ele[0])()]\n",
    "Struct = structures.struct(2.88, g, m)"
   ]
  },
  {
   "cell_type": "code",
   "execution_count": 35,
   "metadata": {},
   "outputs": [
    {
     "data": {
      "image/png": "[encoded data removed]",
      "text/plain": [
       "<Figure size 640x480 with 1 Axes>"
      ]
     },
     "metadata": {},
     "output_type": "display_data"
    },
    {
     "data": {
      "text/plain": [
       "<matplotlib.collections.PathCollection at 0x235219b6ad0>"
      ]
     },
     "execution_count": 35,
     "metadata": {},
     "output_type": "execute_result"
    }
   ],
   "source": [
    "field_generator = fields.plane_wave\n",
    "wavelengths = [400]\n",
    "kwargs = dict(inc_angle=180, E_s=1, E_p=1, phase_Es=[-np.pi/2, np.pi/2])    # LCP, RCP\n",
    "efield = fields.efield(field_generator, wavelengths=wavelengths, kwargs=kwargs)\n",
    "\n",
    "dyads = propagators.DyadsQuasistatic123(n1=1)\n",
    "sim = core.simulation(Struct, efield, dyads)\n",
    "\n",
    "visu.structure(sim, projection=\"xy\")"
   ]
  },
  {
   "cell_type": "code",
   "execution_count": 36,
   "metadata": {},
   "outputs": [
    {
     "name": "stdout",
     "output_type": "stream",
     "text": [
      "timing for wl=400.00nm - setup: EE 5121.8ms, inv.: 307.5ms, repropa.: 51.7ms (2 field configs), tot: 5481.9ms\n"
     ]
    },
    {
     "data": {
      "text/plain": [
       "1"
      ]
     },
     "execution_count": 36,
     "metadata": {},
     "output_type": "execute_result"
    }
   ],
   "source": [
    "sim.scatter()\n"
   ]
  },
  {
   "cell_type": "code",
   "execution_count": 37,
   "metadata": {},
   "outputs": [
    {
     "name": "stdout",
     "output_type": "stream",
     "text": [
      "config 0 : {'E_p': 1, 'E_s': 1, 'inc_angle': 180, 'phase_Es': -1.5707963267948966}\n",
      "config 1 : {'E_p': 1, 'E_s': 1, 'inc_angle': 180, 'phase_Es': 1.5707963267948966}\n"
     ]
    }
   ],
   "source": [
    "field_kwargs = tools.get_possible_field_params_spectra(sim)\n",
    "for i, conf in enumerate(field_kwargs):\n",
    "    print(\"config\", i, \":\", conf)"
   ]
  },
  {
   "cell_type": "code",
   "execution_count": 38,
   "metadata": {},
   "outputs": [
    {
     "name": "stdout",
     "output_type": "stream",
     "text": [
      "closest match: index 0\n",
      "    --> dict: {'E_p': 1, 'E_s': 1, 'inc_angle': 180, 'phase_Es': -1.5707963267948966, 'wavelength': 400}\n"
     ]
    }
   ],
   "source": [
    "search_dict = dict(wavelength=400)\n",
    "idx = tools.get_closest_field_index(sim, search_dict)\n",
    "\n",
    "print('closest match: index', idx)\n",
    "print('    --> dict:', sim.E[idx][0])"
   ]
  },
  {
   "cell_type": "code",
   "execution_count": 39,
   "metadata": {},
   "outputs": [
    {
     "name": "stdout",
     "output_type": "stream",
     "text": [
      "cross sections:\n",
      "    extinction = 2979.66 nm^2\n",
      "    scattering = 166.90 nm^2\n",
      "    absorption = 2812.75 nm^2\n"
     ]
    }
   ],
   "source": [
    "a_ext, a_scat, a_abs = linear.extinct(sim, idx)\n",
    "print(\"cross sections:\")\n",
    "print(\"    extinction = {:.2f} nm^2\".format(float(a_ext)))\n",
    "print(\"    scattering = {:.2f} nm^2\".format(float(a_scat)))\n",
    "print(\"    absorption = {:.2f} nm^2\".format(float(a_abs)))"
   ]
  }
 ],
 "metadata": {
  "kernelspec": {
   "display_name": "CompEnv",
   "language": "python",
   "name": "python3"
  },
  "language_info": {
   "codemirror_mode": {
    "name": "ipython",
    "version": 3
   },
   "file_extension": ".py",
   "mimetype": "text/x-python",
   "name": "python",
   "nbconvert_exporter": "python",
   "pygments_lexer": "ipython3",
   "version": "3.11.5"
  }
 },
 "nbformat": 4,
 "nbformat_minor": 2
}

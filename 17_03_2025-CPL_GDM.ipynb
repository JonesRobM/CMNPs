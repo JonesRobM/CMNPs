{
 "cells": [
  {
   "cell_type": "code",
   "execution_count": 8,
   "metadata": {},
   "outputs": [
    {
     "name": "stdout",
     "output_type": "stream",
     "text": [
      "Defaulting to user installation because normal site-packages is not writeable\n",
      "Requirement already satisfied: ase in /home/robert/.local/lib/python3.10/site-packages (3.22.1)\n",
      "Requirement already satisfied: scipy>=1.1.0 in /home/robert/.local/lib/python3.10/site-packages (from ase) (1.11.4)\n",
      "Requirement already satisfied: numpy>=1.15.0 in /home/robert/.local/lib/python3.10/site-packages (from ase) (1.26.3)\n",
      "Requirement already satisfied: matplotlib>=3.1.0 in /home/robert/.local/lib/python3.10/site-packages (from ase) (3.8.2)\n",
      "Requirement already satisfied: python-dateutil>=2.7 in /home/robert/.local/lib/python3.10/site-packages (from matplotlib>=3.1.0->ase) (2.9.0)\n",
      "Requirement already satisfied: cycler>=0.10 in /home/robert/.local/lib/python3.10/site-packages (from matplotlib>=3.1.0->ase) (0.12.1)\n",
      "Requirement already satisfied: contourpy>=1.0.1 in /home/robert/.local/lib/python3.10/site-packages (from matplotlib>=3.1.0->ase) (1.2.0)\n",
      "Requirement already satisfied: packaging>=20.0 in /home/robert/.local/lib/python3.10/site-packages (from matplotlib>=3.1.0->ase) (23.2)\n",
      "Requirement already satisfied: kiwisolver>=1.3.1 in /home/robert/.local/lib/python3.10/site-packages (from matplotlib>=3.1.0->ase) (1.4.5)\n",
      "Requirement already satisfied: pyparsing>=2.3.1 in /usr/lib/python3/dist-packages (from matplotlib>=3.1.0->ase) (2.4.7)\n",
      "Requirement already satisfied: pillow>=8 in /usr/lib/python3/dist-packages (from matplotlib>=3.1.0->ase) (9.0.1)\n",
      "Requirement already satisfied: fonttools>=4.22.0 in /home/robert/.local/lib/python3.10/site-packages (from matplotlib>=3.1.0->ase) (4.47.0)\n",
      "Requirement already satisfied: six>=1.5 in /usr/lib/python3/dist-packages (from python-dateutil>=2.7->matplotlib>=3.1.0->ase) (1.16.0)\n",
      "Note: you may need to restart the kernel to use updated packages.\n"
     ]
    }
   ],
   "source": [
    "pip install ase"
   ]
  },
  {
   "cell_type": "code",
   "execution_count": 1,
   "metadata": {},
   "outputs": [
    {
     "name": "stderr",
     "output_type": "stream",
     "text": [
      "/home/robert/.local/lib/python3.10/site-packages/matplotlib/projections/__init__.py:63: UserWarning: Unable to import Axes3D. This may be due to multiple versions of Matplotlib being installed (e.g. as a system package and as a pip package). As a result, the 3D projection is not available.\n",
      "  warnings.warn(\"Unable to import Axes3D. This may be due to multiple versions of \"\n"
     ]
    }
   ],
   "source": [
    "from pyGDM2 import structures\n",
    "from pyGDM2 import fields\n",
    "from pyGDM2 import core\n",
    "from pyGDM2 import propagators\n",
    "from pyGDM2 import tools\n",
    "from pyGDM2 import linear\n",
    "from pyGDM2 import visu\n",
    "\n",
    "import sys\n",
    "import numpy as np\n",
    "import matplotlib.pyplot as plt\n",
    "from ase.io import read\n",
    "\n",
    "sys.path.insert(0, 'Light/'); sys.path.insert(0, 'Building/')\n",
    "from Light import Epsilon_ExpClass #For optical response with the pygdm package "
   ]
  },
  {
   "cell_type": "code",
   "execution_count": 2,
   "metadata": {},
   "outputs": [
    {
     "name": "stdout",
     "output_type": "stream",
     "text": [
      "structure initialization - automatic mesh detection: hex\n",
      "structure initialization - consistency check: 344/344 dipoles valid\n"
     ]
    }
   ],
   "source": [
    "Strut = read(\"Ag_344.xyz\")\n",
    "ele = Strut.get_chemical_symbols()\n",
    "Ele = list(set(ele))\n",
    "Strut.positions -= Strut.get_center_of_mass()\n",
    "xyz = Strut.positions\n",
    "g = xyz\n",
    "m = len(g)*[getattr(Epsilon_ExpClass, Ele[0])()]\n",
    "Struct = structures.struct(2.88, g, m)"
   ]
  },
  {
   "cell_type": "code",
   "execution_count": 3,
   "metadata": {},
   "outputs": [
    {
     "data": {
      "image/png": "[encoded data removed]",
      "text/plain": [
       "<Figure size 640x480 with 1 Axes>"
      ]
     },
     "metadata": {},
     "output_type": "display_data"
    },
    {
     "data": {
      "text/plain": [
       "<matplotlib.collections.PathCollection at 0x7a1fc57b4280>"
      ]
     },
     "execution_count": 3,
     "metadata": {},
     "output_type": "execute_result"
    }
   ],
   "source": [
    "field_generator = fields.plane_wave\n",
    "wavelengths = np.linspace(300, 800, 201)\n",
    "kwargs = dict(inc_angle=180, E_s=1, E_p=1, phase_Es=[-np.pi/2])    # LCP, RCP\n",
    "efield = fields.efield(field_generator, wavelengths=wavelengths, kwargs=kwargs)\n",
    "\n",
    "dyads = propagators.DyadsQuasistatic123(n1=1)\n",
    "sim = core.simulation(Struct, efield, dyads)\n",
    "\n",
    "visu.structure(sim, projection=\"xy\")"
   ]
  },
  {
   "cell_type": "code",
   "execution_count": 4,
   "metadata": {},
   "outputs": [
    {
     "name": "stderr",
     "output_type": "stream",
     "text": [
      "/home/robert/.local/lib/python3.10/site-packages/numba/np/ufunc/parallel.py:371: NumbaWarning: \u001b[1mThe TBB threading layer requires TBB version 2021 update 6 or later i.e., TBB_INTERFACE_VERSION >= 12060. Found TBB_INTERFACE_VERSION = 12050. The TBB threading layer is disabled.\u001b[0m\n",
      "  warnings.warn(problem)\n"
     ]
    },
    {
     "name": "stdout",
     "output_type": "stream",
     "text": [
      "timing for wl=300.00nm - setup: EE 4251.1ms, inv.: 11219.3ms, repropa.: 6273.9ms (1 field configs), tot: 21744.5ms\n",
      "timing for wl=302.50nm - setup: EE 25.8ms, inv.: 12053.5ms, repropa.: 8.5ms (1 field configs), tot: 12088.1ms\n",
      "timing for wl=305.00nm - setup: EE 64.2ms, inv.: 9925.8ms, repropa.: 9.4ms (1 field configs), tot: 9999.8ms\n",
      "timing for wl=307.50nm - setup: EE 49.3ms, inv.: 8745.0ms, repropa.: 24.6ms (1 field configs), tot: 8819.2ms\n",
      "timing for wl=310.00nm - setup: EE 39.4ms, inv.: 6747.5ms, repropa.: 8.4ms (1 field configs), tot: 6795.8ms\n",
      "timing for wl=312.50nm - setup: EE 39.6ms, inv.: 13701.7ms, repropa.: 16.1ms (1 field configs), tot: 13757.6ms\n",
      "timing for wl=315.00nm - setup: EE 30.3ms, inv.: 13679.3ms, repropa.: 16.8ms (1 field configs), tot: 13726.5ms\n",
      "timing for wl=317.50nm - setup: EE 30.2ms, inv.: 10585.1ms, repropa.: 24.3ms (1 field configs), tot: 10639.8ms\n",
      "timing for wl=320.00nm - setup: EE 46.3ms, inv.: 9897.5ms, repropa.: 11.4ms (1 field configs), tot: 9955.3ms\n",
      "timing for wl=322.50nm - setup: EE 38.6ms, inv.: 8543.6ms, repropa.: 13.6ms (1 field configs), tot: 8596.0ms\n",
      "timing for wl=325.00nm - setup: EE 32.9ms, inv.: 11084.6ms, repropa.: 13.5ms (1 field configs), tot: 11131.2ms\n",
      "timing for wl=327.50nm - setup: EE 42.7ms, inv.: 7615.6ms, repropa.: 10.9ms (1 field configs), tot: 7669.7ms\n",
      "timing for wl=330.00nm - setup: EE 53.1ms, inv.: 8452.4ms, repropa.: 17.1ms (1 field configs), tot: 8523.1ms\n",
      "timing for wl=332.50nm - setup: EE 50.7ms, inv.: 9640.8ms, repropa.: 22.5ms (1 field configs), tot: 9714.2ms\n",
      "timing for wl=335.00nm - setup: EE 36.7ms, inv.: 8266.8ms, repropa.: 38.6ms (1 field configs), tot: 8342.3ms\n",
      "timing for wl=337.50nm - setup: EE 27.6ms, inv.: 12194.2ms, repropa.: 17.3ms (1 field configs), tot: 12239.3ms\n",
      "timing for wl=340.00nm - setup: EE 40.4ms, inv.: 11607.0ms, repropa.: 9.4ms (1 field configs), tot: 11657.1ms\n",
      "timing for wl=342.50nm - setup: EE 26.9ms, inv.: 8199.2ms, repropa.: 16.8ms (1 field configs), tot: 8243.1ms\n",
      "timing for wl=345.00nm - setup: EE 39.3ms, inv.: 7626.6ms, repropa.: 14.9ms (1 field configs), tot: 7681.3ms\n",
      "timing for wl=347.50nm - setup: EE 37.0ms, inv.: 6948.7ms, repropa.: 58.5ms (1 field configs), tot: 7044.3ms\n",
      "timing for wl=350.00nm - setup: EE 41.0ms, inv.: 11657.6ms, repropa.: 15.9ms (1 field configs), tot: 11714.6ms\n",
      "timing for wl=352.50nm - setup: EE 35.0ms, inv.: 9477.4ms, repropa.: 8.1ms (1 field configs), tot: 9520.8ms\n",
      "timing for wl=355.00nm - setup: EE 26.7ms, inv.: 6355.5ms, repropa.: 13.8ms (1 field configs), tot: 6396.3ms\n",
      "timing for wl=357.50nm - setup: EE 60.8ms, inv.: 8870.6ms, repropa.: 25.4ms (1 field configs), tot: 8957.0ms\n",
      "timing for wl=360.00nm - setup: EE 35.7ms, inv.: 11711.5ms, repropa.: 20.9ms (1 field configs), tot: 11768.2ms\n",
      "timing for wl=362.50nm - setup: EE 45.1ms, inv.: 8579.0ms, repropa.: 7.9ms (1 field configs), tot: 8632.4ms\n",
      "timing for wl=365.00nm - setup: EE 55.8ms, inv.: 13114.3ms, repropa.: 9.6ms (1 field configs), tot: 13179.8ms\n",
      "timing for wl=367.50nm - setup: EE 28.6ms, inv.: 9797.5ms, repropa.: 17.3ms (1 field configs), tot: 9843.7ms\n",
      "timing for wl=370.00nm - setup: EE 54.9ms, inv.: 10843.7ms, repropa.: 17.1ms (1 field configs), tot: 10915.9ms\n",
      "timing for wl=372.50nm - setup: EE 56.1ms, inv.: 10329.1ms, repropa.: 16.7ms (1 field configs), tot: 10402.2ms\n",
      "timing for wl=375.00nm - setup: EE 57.0ms, inv.: 9120.5ms, repropa.: 9.4ms (1 field configs), tot: 9187.3ms\n",
      "timing for wl=377.50nm - setup: EE 41.1ms, inv.: 8695.1ms, repropa.: 17.0ms (1 field configs), tot: 8753.3ms\n",
      "timing for wl=380.00nm - setup: EE 45.5ms, inv.: 8636.8ms, repropa.: 18.2ms (1 field configs), tot: 8700.6ms\n",
      "timing for wl=382.50nm - setup: EE 42.4ms, inv.: 7533.4ms, repropa.: 14.8ms (1 field configs), tot: 7590.8ms\n",
      "timing for wl=385.00nm - setup: EE 40.0ms, inv.: 7642.4ms, repropa.: 12.6ms (1 field configs), tot: 7695.2ms\n",
      "timing for wl=387.50nm - setup: EE 39.4ms, inv.: 7800.8ms, repropa.: 9.3ms (1 field configs), tot: 7849.8ms\n",
      "timing for wl=390.00nm - setup: EE 24.7ms, inv.: 13002.5ms, repropa.: 8.1ms (1 field configs), tot: 13035.7ms\n",
      "timing for wl=392.50nm - setup: EE 67.2ms, inv.: 11416.6ms, repropa.: 9.1ms (1 field configs), tot: 11493.4ms\n",
      "timing for wl=395.00nm - setup: EE 39.0ms, inv.: 12186.7ms, repropa.: 17.1ms (1 field configs), tot: 12242.9ms\n",
      "timing for wl=397.50nm - setup: EE 37.8ms, inv.: 4983.0ms, repropa.: 20.0ms (1 field configs), tot: 5040.9ms\n",
      "timing for wl=400.00nm - setup: EE 54.4ms, inv.: 8146.5ms, repropa.: 48.4ms (1 field configs), tot: 8249.4ms\n",
      "timing for wl=402.50nm - setup: EE 41.6ms, inv.: 6416.6ms, repropa.: 17.5ms (1 field configs), tot: 6475.8ms\n",
      "timing for wl=405.00nm - setup: EE 41.4ms, inv.: 6836.5ms, repropa.: 8.0ms (1 field configs), tot: 6886.2ms\n",
      "timing for wl=407.50nm - setup: EE 28.5ms, inv.: 8352.9ms, repropa.: 8.7ms (1 field configs), tot: 8390.5ms\n",
      "timing for wl=410.00nm - setup: EE 36.4ms, inv.: 8966.7ms, repropa.: 26.9ms (1 field configs), tot: 9030.4ms\n",
      "timing for wl=412.50nm - setup: EE 30.0ms, inv.: 7912.3ms, repropa.: 9.4ms (1 field configs), tot: 7952.0ms\n",
      "timing for wl=415.00nm - setup: EE 46.3ms, inv.: 12526.2ms, repropa.: 9.4ms (1 field configs), tot: 12582.2ms\n",
      "timing for wl=417.50nm - setup: EE 29.9ms, inv.: 11688.4ms, repropa.: 7.9ms (1 field configs), tot: 11726.5ms\n",
      "timing for wl=420.00nm - setup: EE 38.3ms, inv.: 12974.7ms, repropa.: 33.4ms (1 field configs), tot: 13046.6ms\n",
      "timing for wl=422.50nm - setup: EE 54.9ms, inv.: 11493.9ms, repropa.: 9.3ms (1 field configs), tot: 11558.5ms\n",
      "timing for wl=425.00nm - setup: EE 34.8ms, inv.: 8036.9ms, repropa.: 15.1ms (1 field configs), tot: 8086.9ms\n",
      "timing for wl=427.50nm - setup: EE 23.4ms, inv.: 8565.2ms, repropa.: 14.1ms (1 field configs), tot: 8602.9ms\n",
      "timing for wl=430.00nm - setup: EE 26.1ms, inv.: 7503.4ms, repropa.: 21.5ms (1 field configs), tot: 7551.3ms\n",
      "timing for wl=432.50nm - setup: EE 57.6ms, inv.: 12339.9ms, repropa.: 9.2ms (1 field configs), tot: 12407.0ms\n",
      "timing for wl=435.00nm - setup: EE 22.4ms, inv.: 10841.1ms, repropa.: 13.4ms (1 field configs), tot: 10877.3ms\n",
      "timing for wl=437.50nm - setup: EE 33.6ms, inv.: 10789.2ms, repropa.: 22.0ms (1 field configs), tot: 10844.9ms\n",
      "timing for wl=440.00nm - setup: EE 45.2ms, inv.: 3404.3ms, repropa.: 13.5ms (1 field configs), tot: 3463.2ms\n",
      "timing for wl=442.50nm - setup: EE 42.1ms, inv.: 12236.8ms, repropa.: 8.4ms (1 field configs), tot: 12296.4ms\n",
      "timing for wl=445.00nm - setup: EE 50.6ms, inv.: 7899.5ms, repropa.: 16.5ms (1 field configs), tot: 7966.8ms\n",
      "timing for wl=447.50nm - setup: EE 31.2ms, inv.: 9572.8ms, repropa.: 8.4ms (1 field configs), tot: 9612.7ms\n",
      "timing for wl=450.00nm - setup: EE 38.4ms, inv.: 3200.9ms, repropa.: 13.9ms (1 field configs), tot: 3253.6ms\n",
      "timing for wl=452.50nm - setup: EE 48.3ms, inv.: 7798.7ms, repropa.: 15.1ms (1 field configs), tot: 7862.3ms\n",
      "timing for wl=455.00nm - setup: EE 38.3ms, inv.: 8122.9ms, repropa.: 8.2ms (1 field configs), tot: 8169.9ms\n",
      "timing for wl=457.50nm - setup: EE 55.3ms, inv.: 10948.1ms, repropa.: 13.9ms (1 field configs), tot: 11017.6ms\n",
      "timing for wl=460.00nm - setup: EE 44.1ms, inv.: 13019.8ms, repropa.: 9.0ms (1 field configs), tot: 13073.2ms\n",
      "timing for wl=462.50nm - setup: EE 48.9ms, inv.: 11530.0ms, repropa.: 13.8ms (1 field configs), tot: 11592.9ms\n",
      "timing for wl=465.00nm - setup: EE 30.2ms, inv.: 11678.4ms, repropa.: 14.7ms (1 field configs), tot: 11723.5ms\n",
      "timing for wl=467.50nm - setup: EE 26.8ms, inv.: 10756.9ms, repropa.: 8.3ms (1 field configs), tot: 10792.1ms\n",
      "timing for wl=470.00nm - setup: EE 44.1ms, inv.: 10724.2ms, repropa.: 9.3ms (1 field configs), tot: 10778.1ms\n",
      "timing for wl=472.50nm - setup: EE 25.4ms, inv.: 9172.8ms, repropa.: 9.4ms (1 field configs), tot: 9208.0ms\n",
      "timing for wl=475.00nm - setup: EE 50.2ms, inv.: 8523.4ms, repropa.: 8.4ms (1 field configs), tot: 8582.3ms\n",
      "timing for wl=477.50nm - setup: EE 35.5ms, inv.: 1915.0ms, repropa.: 10.3ms (1 field configs), tot: 1960.9ms\n",
      "timing for wl=480.00nm - setup: EE 28.8ms, inv.: 8044.4ms, repropa.: 14.0ms (1 field configs), tot: 8087.4ms\n",
      "timing for wl=482.50nm - setup: EE 38.7ms, inv.: 8777.6ms, repropa.: 12.1ms (1 field configs), tot: 8828.8ms\n",
      "timing for wl=485.00nm - setup: EE 25.6ms, inv.: 8984.8ms, repropa.: 10.1ms (1 field configs), tot: 9020.8ms\n",
      "timing for wl=487.50nm - setup: EE 45.6ms, inv.: 5116.8ms, repropa.: 9.6ms (1 field configs), tot: 5172.1ms\n",
      "timing for wl=490.00nm - setup: EE 55.1ms, inv.: 13349.0ms, repropa.: 25.9ms (1 field configs), tot: 13430.2ms\n",
      "timing for wl=492.50nm - setup: EE 34.0ms, inv.: 10825.3ms, repropa.: 14.0ms (1 field configs), tot: 10873.5ms\n",
      "timing for wl=495.00nm - setup: EE 24.2ms, inv.: 12518.1ms, repropa.: 22.3ms (1 field configs), tot: 12564.7ms\n",
      "timing for wl=497.50nm - setup: EE 39.0ms, inv.: 4790.4ms, repropa.: 9.4ms (1 field configs), tot: 4839.1ms\n",
      "timing for wl=500.00nm - setup: EE 46.2ms, inv.: 7522.2ms, repropa.: 12.8ms (1 field configs), tot: 7581.3ms\n",
      "timing for wl=502.50nm - setup: EE 26.2ms, inv.: 8661.8ms, repropa.: 26.8ms (1 field configs), tot: 8715.0ms\n",
      "timing for wl=505.00nm - setup: EE 52.4ms, inv.: 6483.3ms, repropa.: 9.6ms (1 field configs), tot: 6545.5ms\n",
      "timing for wl=507.50nm - setup: EE 36.1ms, inv.: 7231.8ms, repropa.: 6.9ms (1 field configs), tot: 7275.0ms\n",
      "timing for wl=510.00nm - setup: EE 25.2ms, inv.: 9916.1ms, repropa.: 8.8ms (1 field configs), tot: 9950.6ms\n",
      "timing for wl=512.50nm - setup: EE 49.7ms, inv.: 9958.9ms, repropa.: 17.6ms (1 field configs), tot: 10026.3ms\n",
      "timing for wl=515.00nm - setup: EE 40.2ms, inv.: 8080.0ms, repropa.: 27.8ms (1 field configs), tot: 8148.2ms\n",
      "timing for wl=517.50nm - setup: EE 37.9ms, inv.: 9341.8ms, repropa.: 8.6ms (1 field configs), tot: 9388.4ms\n",
      "timing for wl=520.00nm - setup: EE 42.1ms, inv.: 10626.0ms, repropa.: 8.4ms (1 field configs), tot: 10678.5ms\n",
      "timing for wl=522.50nm - setup: EE 49.9ms, inv.: 13940.3ms, repropa.: 24.9ms (1 field configs), tot: 14015.3ms\n",
      "timing for wl=525.00nm - setup: EE 36.2ms, inv.: 7176.4ms, repropa.: 8.5ms (1 field configs), tot: 7221.5ms\n",
      "timing for wl=527.50nm - setup: EE 41.0ms, inv.: 7879.0ms, repropa.: 13.2ms (1 field configs), tot: 7933.5ms\n",
      "timing for wl=530.00nm - setup: EE 31.6ms, inv.: 10499.7ms, repropa.: 8.3ms (1 field configs), tot: 10539.9ms\n",
      "timing for wl=532.50nm - setup: EE 29.6ms, inv.: 7294.3ms, repropa.: 18.9ms (1 field configs), tot: 7343.0ms\n",
      "timing for wl=535.00nm - setup: EE 33.9ms, inv.: 8375.4ms, repropa.: 13.5ms (1 field configs), tot: 8423.1ms\n",
      "timing for wl=537.50nm - setup: EE 35.5ms, inv.: 10113.2ms, repropa.: 7.8ms (1 field configs), tot: 10156.9ms\n",
      "timing for wl=540.00nm - setup: EE 50.2ms, inv.: 10252.7ms, repropa.: 18.1ms (1 field configs), tot: 10321.2ms\n",
      "timing for wl=542.50nm - setup: EE 30.4ms, inv.: 6778.1ms, repropa.: 32.6ms (1 field configs), tot: 6841.3ms\n",
      "timing for wl=545.00nm - setup: EE 40.3ms, inv.: 11407.6ms, repropa.: 25.0ms (1 field configs), tot: 11473.0ms\n",
      "timing for wl=547.50nm - setup: EE 32.5ms, inv.: 10229.1ms, repropa.: 8.2ms (1 field configs), tot: 10270.5ms\n",
      "timing for wl=550.00nm - setup: EE 36.7ms, inv.: 6978.5ms, repropa.: 9.3ms (1 field configs), tot: 7024.6ms\n",
      "timing for wl=552.50nm - setup: EE 36.5ms, inv.: 7876.3ms, repropa.: 15.6ms (1 field configs), tot: 7928.9ms\n",
      "timing for wl=555.00nm - setup: EE 60.3ms, inv.: 6616.9ms, repropa.: 9.3ms (1 field configs), tot: 6686.9ms\n",
      "timing for wl=557.50nm - setup: EE 27.9ms, inv.: 5990.3ms, repropa.: 14.1ms (1 field configs), tot: 6032.4ms\n",
      "timing for wl=560.00nm - setup: EE 35.0ms, inv.: 7286.6ms, repropa.: 9.4ms (1 field configs), tot: 7331.3ms\n",
      "timing for wl=562.50nm - setup: EE 21.5ms, inv.: 13775.8ms, repropa.: 9.1ms (1 field configs), tot: 13806.8ms\n",
      "timing for wl=565.00nm - setup: EE 33.7ms, inv.: 7680.2ms, repropa.: 9.3ms (1 field configs), tot: 7723.6ms\n",
      "timing for wl=567.50nm - setup: EE 46.7ms, inv.: 12241.7ms, repropa.: 20.6ms (1 field configs), tot: 12309.2ms\n",
      "timing for wl=570.00nm - setup: EE 29.0ms, inv.: 10214.5ms, repropa.: 13.6ms (1 field configs), tot: 10257.3ms\n",
      "timing for wl=572.50nm - setup: EE 35.8ms, inv.: 10581.7ms, repropa.: 9.3ms (1 field configs), tot: 10627.2ms\n",
      "timing for wl=575.00nm - setup: EE 56.5ms, inv.: 11082.9ms, repropa.: 20.7ms (1 field configs), tot: 11160.3ms\n",
      "timing for wl=577.50nm - setup: EE 34.2ms, inv.: 9009.3ms, repropa.: 9.4ms (1 field configs), tot: 9053.2ms\n",
      "timing for wl=580.00nm - setup: EE 22.3ms, inv.: 7719.8ms, repropa.: 23.3ms (1 field configs), tot: 7765.6ms\n",
      "timing for wl=582.50nm - setup: EE 40.1ms, inv.: 9011.2ms, repropa.: 17.6ms (1 field configs), tot: 9069.0ms\n",
      "timing for wl=585.00nm - setup: EE 42.1ms, inv.: 10179.9ms, repropa.: 15.3ms (1 field configs), tot: 10237.5ms\n",
      "timing for wl=587.50nm - setup: EE 36.2ms, inv.: 10905.5ms, repropa.: 16.0ms (1 field configs), tot: 10957.8ms\n",
      "timing for wl=590.00nm - setup: EE 36.2ms, inv.: 11647.3ms, repropa.: 8.5ms (1 field configs), tot: 11692.2ms\n",
      "timing for wl=592.50nm - setup: EE 41.2ms, inv.: 6772.0ms, repropa.: 8.6ms (1 field configs), tot: 6822.2ms\n",
      "timing for wl=595.00nm - setup: EE 34.4ms, inv.: 9601.4ms, repropa.: 16.9ms (1 field configs), tot: 9652.9ms\n",
      "timing for wl=597.50nm - setup: EE 28.3ms, inv.: 10633.7ms, repropa.: 9.5ms (1 field configs), tot: 10671.8ms\n",
      "timing for wl=600.00nm - setup: EE 51.2ms, inv.: 12708.9ms, repropa.: 9.4ms (1 field configs), tot: 12769.8ms\n",
      "timing for wl=602.50nm - setup: EE 41.2ms, inv.: 11465.0ms, repropa.: 20.1ms (1 field configs), tot: 11526.4ms\n",
      "timing for wl=605.00nm - setup: EE 54.9ms, inv.: 12457.8ms, repropa.: 14.9ms (1 field configs), tot: 12527.7ms\n",
      "timing for wl=607.50nm - setup: EE 27.9ms, inv.: 11183.5ms, repropa.: 16.7ms (1 field configs), tot: 11228.3ms\n",
      "timing for wl=610.00nm - setup: EE 25.6ms, inv.: 4965.2ms, repropa.: 8.6ms (1 field configs), tot: 4999.6ms\n",
      "timing for wl=612.50nm - setup: EE 40.1ms, inv.: 4748.6ms, repropa.: 9.3ms (1 field configs), tot: 4798.4ms\n",
      "timing for wl=615.00nm - setup: EE 48.4ms, inv.: 10787.7ms, repropa.: 25.5ms (1 field configs), tot: 10862.2ms\n",
      "timing for wl=617.50nm - setup: EE 41.3ms, inv.: 10969.7ms, repropa.: 49.2ms (1 field configs), tot: 11060.3ms\n",
      "timing for wl=620.00nm - setup: EE 41.7ms, inv.: 8860.7ms, repropa.: 8.2ms (1 field configs), tot: 8910.9ms\n",
      "timing for wl=622.50nm - setup: EE 35.8ms, inv.: 11892.5ms, repropa.: 16.8ms (1 field configs), tot: 11945.2ms\n",
      "timing for wl=625.00nm - setup: EE 39.1ms, inv.: 9268.9ms, repropa.: 11.6ms (1 field configs), tot: 9319.8ms\n",
      "timing for wl=627.50nm - setup: EE 27.5ms, inv.: 8229.3ms, repropa.: 9.3ms (1 field configs), tot: 8266.5ms\n",
      "timing for wl=630.00nm - setup: EE 29.8ms, inv.: 9570.0ms, repropa.: 8.1ms (1 field configs), tot: 9608.1ms\n",
      "timing for wl=632.50nm - setup: EE 58.0ms, inv.: 8815.6ms, repropa.: 14.7ms (1 field configs), tot: 8888.6ms\n",
      "timing for wl=635.00nm - setup: EE 29.2ms, inv.: 6980.8ms, repropa.: 23.1ms (1 field configs), tot: 7033.3ms\n",
      "timing for wl=637.50nm - setup: EE 42.3ms, inv.: 10648.8ms, repropa.: 16.3ms (1 field configs), tot: 10707.9ms\n",
      "timing for wl=640.00nm - setup: EE 59.4ms, inv.: 9443.9ms, repropa.: 20.1ms (1 field configs), tot: 9523.6ms\n",
      "timing for wl=642.50nm - setup: EE 42.1ms, inv.: 10964.4ms, repropa.: 20.4ms (1 field configs), tot: 11035.1ms\n",
      "timing for wl=645.00nm - setup: EE 37.1ms, inv.: 7301.2ms, repropa.: 8.4ms (1 field configs), tot: 7346.9ms\n",
      "timing for wl=647.50nm - setup: EE 23.3ms, inv.: 11257.7ms, repropa.: 23.9ms (1 field configs), tot: 11305.0ms\n",
      "timing for wl=650.00nm - setup: EE 40.1ms, inv.: 9008.2ms, repropa.: 9.6ms (1 field configs), tot: 9058.0ms\n",
      "timing for wl=652.50nm - setup: EE 31.8ms, inv.: 7548.6ms, repropa.: 9.2ms (1 field configs), tot: 7589.9ms\n",
      "timing for wl=655.00nm - setup: EE 38.3ms, inv.: 4894.6ms, repropa.: 15.2ms (1 field configs), tot: 4948.5ms\n",
      "timing for wl=657.50nm - setup: EE 55.6ms, inv.: 9750.8ms, repropa.: 9.6ms (1 field configs), tot: 9816.2ms\n",
      "timing for wl=660.00nm - setup: EE 25.7ms, inv.: 10823.8ms, repropa.: 24.1ms (1 field configs), tot: 10873.8ms\n",
      "timing for wl=662.50nm - setup: EE 29.2ms, inv.: 11257.3ms, repropa.: 7.5ms (1 field configs), tot: 11294.3ms\n",
      "timing for wl=665.00nm - setup: EE 27.1ms, inv.: 12380.3ms, repropa.: 9.3ms (1 field configs), tot: 12417.0ms\n",
      "timing for wl=667.50nm - setup: EE 24.9ms, inv.: 10747.1ms, repropa.: 21.6ms (1 field configs), tot: 10793.7ms\n",
      "timing for wl=670.00nm - setup: EE 28.3ms, inv.: 14052.4ms, repropa.: 13.5ms (1 field configs), tot: 14094.6ms\n",
      "timing for wl=672.50nm - setup: EE 58.2ms, inv.: 4417.2ms, repropa.: 13.1ms (1 field configs), tot: 4488.7ms\n",
      "timing for wl=675.00nm - setup: EE 35.2ms, inv.: 9690.6ms, repropa.: 8.5ms (1 field configs), tot: 9734.6ms\n",
      "timing for wl=677.50nm - setup: EE 39.3ms, inv.: 7321.2ms, repropa.: 9.4ms (1 field configs), tot: 7370.3ms\n",
      "timing for wl=680.00nm - setup: EE 35.2ms, inv.: 23.0ms, repropa.: 9.1ms (1 field configs), tot: 67.3ms\n",
      "timing for wl=682.50nm - setup: EE 41.5ms, inv.: 22.0ms, repropa.: 9.0ms (1 field configs), tot: 72.6ms\n",
      "timing for wl=685.00nm - setup: EE 21.2ms, inv.: 32.1ms, repropa.: 9.0ms (1 field configs), tot: 62.5ms\n",
      "timing for wl=687.50nm - setup: EE 33.0ms, inv.: 34.2ms, repropa.: 9.1ms (1 field configs), tot: 76.4ms\n",
      "timing for wl=690.00nm - setup: EE 21.6ms, inv.: 81.7ms, repropa.: 9.2ms (1 field configs), tot: 112.7ms\n",
      "timing for wl=692.50nm - setup: EE 23.6ms, inv.: 93.9ms, repropa.: 9.3ms (1 field configs), tot: 126.9ms\n",
      "timing for wl=695.00nm - setup: EE 25.4ms, inv.: 35.2ms, repropa.: 9.1ms (1 field configs), tot: 69.8ms\n",
      "timing for wl=697.50nm - setup: EE 26.9ms, inv.: 41.4ms, repropa.: 9.0ms (1 field configs), tot: 77.7ms\n",
      "timing for wl=700.00nm - setup: EE 34.7ms, inv.: 16.5ms, repropa.: 9.1ms (1 field configs), tot: 60.5ms\n",
      "timing for wl=702.50nm - setup: EE 21.2ms, inv.: 30.4ms, repropa.: 9.0ms (1 field configs), tot: 60.7ms\n",
      "timing for wl=705.00nm - setup: EE 32.8ms, inv.: 19.1ms, repropa.: 8.9ms (1 field configs), tot: 60.9ms\n",
      "timing for wl=707.50nm - setup: EE 15.1ms, inv.: 38.3ms, repropa.: 9.0ms (1 field configs), tot: 66.5ms\n",
      "timing for wl=710.00nm - setup: EE 16.1ms, inv.: 32.4ms, repropa.: 9.0ms (1 field configs), tot: 57.6ms\n",
      "timing for wl=712.50nm - setup: EE 15.4ms, inv.: 28.4ms, repropa.: 8.9ms (1 field configs), tot: 52.7ms\n",
      "timing for wl=715.00nm - setup: EE 20.1ms, inv.: 25.8ms, repropa.: 8.9ms (1 field configs), tot: 55.0ms\n",
      "timing for wl=717.50nm - setup: EE 14.5ms, inv.: 30.1ms, repropa.: 8.9ms (1 field configs), tot: 53.6ms\n",
      "timing for wl=720.00nm - setup: EE 17.4ms, inv.: 26.7ms, repropa.: 8.9ms (1 field configs), tot: 53.1ms\n",
      "timing for wl=722.50nm - setup: EE 19.2ms, inv.: 20.2ms, repropa.: 8.9ms (1 field configs), tot: 48.3ms\n",
      "timing for wl=725.00nm - setup: EE 16.2ms, inv.: 29.5ms, repropa.: 9.0ms (1 field configs), tot: 54.7ms\n",
      "timing for wl=727.50nm - setup: EE 19.7ms, inv.: 73.5ms, repropa.: 9.0ms (1 field configs), tot: 102.3ms\n",
      "timing for wl=730.00nm - setup: EE 17.0ms, inv.: 198.3ms, repropa.: 9.3ms (1 field configs), tot: 224.8ms\n",
      "timing for wl=732.50nm - setup: EE 19.3ms, inv.: 23.4ms, repropa.: 9.0ms (1 field configs), tot: 51.9ms\n",
      "timing for wl=735.00nm - setup: EE 27.1ms, inv.: 16.4ms, repropa.: 9.0ms (1 field configs), tot: 52.5ms\n",
      "timing for wl=737.50nm - setup: EE 17.0ms, inv.: 31.0ms, repropa.: 8.9ms (1 field configs), tot: 56.9ms\n",
      "timing for wl=740.00nm - setup: EE 30.7ms, inv.: 31.5ms, repropa.: 9.0ms (1 field configs), tot: 71.3ms\n",
      "timing for wl=742.50nm - setup: EE 19.3ms, inv.: 22.4ms, repropa.: 8.9ms (1 field configs), tot: 50.6ms\n",
      "timing for wl=745.00nm - setup: EE 18.8ms, inv.: 24.5ms, repropa.: 8.9ms (1 field configs), tot: 52.3ms\n",
      "timing for wl=747.50nm - setup: EE 26.4ms, inv.: 20.3ms, repropa.: 9.4ms (1 field configs), tot: 56.2ms\n",
      "timing for wl=750.00nm - setup: EE 16.9ms, inv.: 43.0ms, repropa.: 9.0ms (1 field configs), tot: 68.9ms\n",
      "timing for wl=752.50nm - setup: EE 27.1ms, inv.: 15.5ms, repropa.: 8.9ms (1 field configs), tot: 51.5ms\n",
      "timing for wl=755.00nm - setup: EE 16.7ms, inv.: 27.1ms, repropa.: 8.9ms (1 field configs), tot: 52.7ms\n",
      "timing for wl=757.50nm - setup: EE 19.2ms, inv.: 37.4ms, repropa.: 9.0ms (1 field configs), tot: 65.9ms\n",
      "timing for wl=760.00nm - setup: EE 17.5ms, inv.: 26.8ms, repropa.: 8.9ms (1 field configs), tot: 53.2ms\n",
      "timing for wl=762.50nm - setup: EE 27.2ms, inv.: 18.4ms, repropa.: 8.9ms (1 field configs), tot: 54.5ms\n",
      "timing for wl=765.00nm - setup: EE 17.5ms, inv.: 28.4ms, repropa.: 9.0ms (1 field configs), tot: 54.9ms\n",
      "timing for wl=767.50nm - setup: EE 26.8ms, inv.: 26.9ms, repropa.: 8.9ms (1 field configs), tot: 62.8ms\n",
      "timing for wl=770.00nm - setup: EE 23.2ms, inv.: 19.2ms, repropa.: 8.9ms (1 field configs), tot: 51.4ms\n",
      "timing for wl=772.50nm - setup: EE 17.8ms, inv.: 23.9ms, repropa.: 8.9ms (1 field configs), tot: 50.7ms\n",
      "timing for wl=775.00nm - setup: EE 22.6ms, inv.: 24.1ms, repropa.: 9.0ms (1 field configs), tot: 55.7ms\n",
      "timing for wl=777.50nm - setup: EE 28.2ms, inv.: 16.2ms, repropa.: 9.0ms (1 field configs), tot: 53.6ms\n",
      "timing for wl=780.00nm - setup: EE 16.8ms, inv.: 22.7ms, repropa.: 9.0ms (1 field configs), tot: 48.5ms\n",
      "timing for wl=782.50nm - setup: EE 27.3ms, inv.: 16.8ms, repropa.: 9.0ms (1 field configs), tot: 53.2ms\n",
      "timing for wl=785.00nm - setup: EE 17.4ms, inv.: 20.2ms, repropa.: 8.8ms (1 field configs), tot: 46.5ms\n",
      "timing for wl=787.50nm - setup: EE 19.2ms, inv.: 27.9ms, repropa.: 9.1ms (1 field configs), tot: 56.4ms\n",
      "timing for wl=790.00nm - setup: EE 23.2ms, inv.: 17.8ms, repropa.: 9.0ms (1 field configs), tot: 50.1ms\n",
      "timing for wl=792.50nm - setup: EE 18.3ms, inv.: 38.6ms, repropa.: 8.9ms (1 field configs), tot: 65.9ms\n",
      "timing for wl=795.00nm - setup: EE 19.0ms, inv.: 46.0ms, repropa.: 9.5ms (1 field configs), tot: 74.5ms\n",
      "timing for wl=797.50nm - setup: EE 27.0ms, inv.: 17.2ms, repropa.: 9.0ms (1 field configs), tot: 53.2ms\n",
      "timing for wl=800.00nm - setup: EE 18.3ms, inv.: 23.3ms, repropa.: 9.0ms (1 field configs), tot: 50.5ms\n"
     ]
    },
    {
     "data": {
      "text/plain": [
       "1"
      ]
     },
     "execution_count": 4,
     "metadata": {},
     "output_type": "execute_result"
    }
   ],
   "source": [
    "sim.scatter()"
   ]
  },
  {
   "cell_type": "code",
   "execution_count": 9,
   "metadata": {},
   "outputs": [
    {
     "name": "stdout",
     "output_type": "stream",
     "text": [
      "config 0 : {'E_p': 1, 'E_s': 1, 'inc_angle': 180, 'phase_Es': -1.5707963267948966}\n"
     ]
    }
   ],
   "source": [
    "field_kwargs = tools.get_possible_field_params_spectra(sim)\n",
    "for i, conf in enumerate(field_kwargs):\n",
    "    print(\"config\", i, \":\", conf)"
   ]
  },
  {
   "cell_type": "code",
   "execution_count": 10,
   "metadata": {},
   "outputs": [
    {
     "name": "stdout",
     "output_type": "stream",
     "text": [
      "closest match: index 40\n",
      "    --> dict: {'E_p': 1, 'E_s': 1, 'inc_angle': 180, 'phase_Es': -1.5707963267948966, 'wavelength': 400.0}\n"
     ]
    }
   ],
   "source": [
    "search_dict = dict(wavelength=400)\n",
    "idx = tools.get_closest_field_index(sim, search_dict)\n",
    "\n",
    "print('closest match: index', idx)\n",
    "print('    --> dict:', sim.E[idx][0])"
   ]
  },
  {
   "cell_type": "code",
   "execution_count": null,
   "metadata": {},
   "outputs": [
    {
     "ename": "TypeError",
     "evalue": "extinct() missing 1 required positional argument: 'field_index'",
     "output_type": "error",
     "traceback": [
      "\u001b[0;31m---------------------------------------------------------------------------\u001b[0m",
      "\u001b[0;31mTypeError\u001b[0m                                 Traceback (most recent call last)",
      "Cell \u001b[0;32mIn[19], line 1\u001b[0m\n\u001b[0;32m----> 1\u001b[0m a_ext, a_scat, a_abs \u001b[38;5;241m=\u001b[39m \u001b[43mlinear\u001b[49m\u001b[38;5;241;43m.\u001b[39;49m\u001b[43mextinct\u001b[49m\u001b[43m(\u001b[49m\u001b[43msim\u001b[49m\u001b[43m)\u001b[49m\n\u001b[1;32m      2\u001b[0m \u001b[38;5;28mprint\u001b[39m(\u001b[38;5;124m\"\u001b[39m\u001b[38;5;124mcross sections:\u001b[39m\u001b[38;5;124m\"\u001b[39m)\n\u001b[1;32m      3\u001b[0m \u001b[38;5;28mprint\u001b[39m(\u001b[38;5;124m\"\u001b[39m\u001b[38;5;124m    extinction = \u001b[39m\u001b[38;5;132;01m{:.2f}\u001b[39;00m\u001b[38;5;124m nm^2\u001b[39m\u001b[38;5;124m\"\u001b[39m\u001b[38;5;241m.\u001b[39mformat(\u001b[38;5;28mfloat\u001b[39m(a_ext)))\n",
      "\u001b[0;31mTypeError\u001b[0m: extinct() missing 1 required positional argument: 'field_index'"
     ]
    }
   ],
   "source": [
    "a_ext, a_scat, a_abs = linear.extinct(sim, idx)\n",
    "print(\"cross sections:\")\n",
    "print(\"    extinction = {:.2f} nm^2\".format(float(a_ext)))\n",
    "print(\"    scattering = {:.2f} nm^2\".format(float(a_scat)))\n",
    "print(\"    absorption = {:.2f} nm^2\".format(float(a_abs)))"
   ]
  },
  {
   "cell_type": "code",
   "execution_count": 21,
   "metadata": {},
   "outputs": [],
   "source": [
    "wl, spec = tools.calculate_spectrum(sim, 0, linear.extinct)\n",
    "ex,sc,ab = spec.T"
   ]
  },
  {
   "cell_type": "code",
   "execution_count": 23,
   "metadata": {},
   "outputs": [
    {
     "data": {
      "text/plain": [
       "[<matplotlib.lines.Line2D at 0x7a1fa89999f0>]"
      ]
     },
     "execution_count": 23,
     "metadata": {},
     "output_type": "execute_result"
    },
    {
     "data": {
      "image/png": "[encoded data removed]",
      "text/plain": [
       "<Figure size 640x480 with 1 Axes>"
      ]
     },
     "metadata": {},
     "output_type": "display_data"
    }
   ],
   "source": [
    "plt.plot(wl, ex, label='extinction')"
   ]
  },
  {
   "cell_type": "code",
   "execution_count": 51,
   "metadata": {},
   "outputs": [
    {
     "name": "stdout",
     "output_type": "stream",
     "text": [
      "Help on function optical_chirality in module pyGDM2.linear:\n",
      "\n",
      "optical_chirality(sim, field_index, r_probe, which_field='t', **kwargs)\n",
      "    calculate the optical chirality of the electromagnetic field\n",
      "    \n",
      "    ** ------- FUNCTION STILL UNDER TESTING ------- **\n",
      "    \n",
      "    Returns the normalized electromagnetic chirality *C / C_LCP*, as defined in [1-4].\n",
      "    Normalized to a left circular polarized (LCP) plane wave of amplitude |E_0|=1.\n",
      "    Hence:\n",
      "    \n",
      "     --> LCP: C = + 1\n",
      "     --> RCP: C = - 1\n",
      "    \n",
      "    see also [3] or [4] for a short discussion about the normalization to LCP.\n",
      "    \n",
      "    |C/C_LCP|>1 means that the local field is \"superchiral\", \n",
      "    hence a chiral molecule is excited with higher selectivity than it would be\n",
      "    with circular polarized light.\n",
      "    \n",
      "    kwargs are passed to :func:`.nearfield`.\n",
      "    \n",
      "    Parameters\n",
      "    ----------\n",
      "    sim : :class:`.core.simulation`\n",
      "        simulation description\n",
      "    \n",
      "    field_index : int\n",
      "        index of evaluated self-consistent field to use for calculation. Can be\n",
      "        obtained for specific parameter-set using :func:`.tools.get_closest_field_index`\n",
      "    \n",
      "    r_probe : tuple (x,y,z) or list of 3-lists/-tuples\n",
      "        (list of) coordinate(s) to evaluate nearfield on. \n",
      "        Format: tuple (x,y,z) or list of 3 lists: [Xmap, Ymap, Zmap] \n",
      "        (the latter can be generated e.g. using :func:`.tools.generate_NF_map`)\n",
      "    \n",
      "    which_field : str, default: 't'\n",
      "        either of:\n",
      "            - \"s\", \"Es\" for *scattered field*\n",
      "            - \"t\", \"Et\" for *total field* (with illumination, i.e. Et=Es+E0; Bt=Bs+B0)\n",
      "            - \"0\", \"E0\" for *incident field* (illumination (E0, B0) only, corresponding to simulation with no nanostructure)\n",
      "    \n",
      "    Returns\n",
      "    -------\n",
      "    list of tuples (X,Y,Z, X). Each tuple consists of the position and the \n",
      "    (normalized) optical chirality *C / C_LCP*.\n",
      "    \n",
      "    \n",
      "    Notes\n",
      "    -----\n",
      "    For details on the optical chirality, see e.g.:\n",
      "    \n",
      "    [1] Tang, Y. & Cohen, A. E.: **Optical Chirality and Its Interaction \n",
      "    with Matter**. Phys. Rev. Lett. 104, 163901 (2010)\n",
      "    \n",
      "    [2] Meinzer, N., Hendry, E. & Barnes, W. L.: **Probing the chiral nature \n",
      "    of electromagnetic fields surrounding plasmonic nanostructures**. \n",
      "    Phys. Rev. B 88, 041407 (2013)\n",
      "    \n",
      "    A discussion about the proper normalization of C can be found in:\n",
      "    \n",
      "    [3] 1.Schäferling, M., Yin, X.,  Giessen, H. \n",
      "    **Formation of chiral fields in a symmetric environment**. \n",
      "    Opt. Express 20(24), 26326–26336 (2012)\n",
      "    \n",
      "    [4] Schäferling M., Yin X., Engheta N., Giessen H. **Helical \n",
      "    Plasmonic Nanostructures as Prototypical Chiral Near-Field Sources**. \n",
      "    ACS Photonics 1(6), 530-537 (2014)\n",
      "\n"
     ]
    }
   ],
   "source": [
    "help(linear.optical_chirality)"
   ]
  },
  {
   "cell_type": "code",
   "execution_count": 59,
   "metadata": {},
   "outputs": [],
   "source": [
    "## --- calculate the C spectrum at top of the center between rods\n",
    "Z_probe = 0\n",
    "\n",
    "## L-dimer\n",
    "wl, Cspec = tools.calculate_spectrum(sim, 0, linear.optical_chirality, r_probe=[[0,0,Z_probe]])\n",
    "C_spec_R = Cspec.T\n",
    "\n",
    "r_probe = tools.generate_NF_map(-30,+30,101, -30,30,101, Z0=Z_probe)\n",
    "\n",
    "C_R = linear.optical_chirality(sim, idx, r_probe, which_field='0')"
   ]
  },
  {
   "cell_type": "code",
   "execution_count": 56,
   "metadata": {},
   "outputs": [
    {
     "data": {
      "text/plain": [
       "[<matplotlib.lines.Line2D at 0x7a1f7b7827d0>]"
      ]
     },
     "execution_count": 56,
     "metadata": {},
     "output_type": "execute_result"
    },
    {
     "data": {
      "image/png": "[encoded data removed]",
      "text/plain": [
       "<Figure size 640x480 with 1 Axes>"
      ]
     },
     "metadata": {},
     "output_type": "display_data"
    }
   ],
   "source": [
    "plt.plot(wl, Cspec, color='k', label='L-struct')"
   ]
  },
  {
   "cell_type": "code",
   "execution_count": 69,
   "metadata": {},
   "outputs": [
    {
     "data": {
      "text/plain": [
       "array([2., 2., 2., ..., 2., 2., 2.], dtype=float32)"
      ]
     },
     "execution_count": 69,
     "metadata": {},
     "output_type": "execute_result"
    }
   ],
   "source": [
    "C_R[-1]"
   ]
  },
  {
   "cell_type": "code",
   "execution_count": 61,
   "metadata": {},
   "outputs": [
    {
     "data": {
      "text/plain": [
       "(-30.0, 30.0)"
      ]
     },
     "execution_count": 61,
     "metadata": {},
     "output_type": "execute_result"
    },
    {
     "data": {
      "image/png": "[encoded data removed]",
      "text/plain": [
       "<Figure size 640x480 with 2 Axes>"
      ]
     },
     "metadata": {},
     "output_type": "display_data"
    }
   ],
   "source": [
    "im = visu.scalarfield(C_R, cmap='jet', show=0, interpolation='nearest')\n",
    "\n",
    "plt.colorbar(im, label='C / C_RCP')\n",
    "im.set_clim(-2.5, 2.5)\n",
    "visu.structure_contour(sim, color='k', show=0, lw = 4)\n",
    "plt.xlim(-30, 30)\n",
    "plt.ylim(-30, 30)"
   ]
  }
 ],
 "metadata": {
  "kernelspec": {
   "display_name": "Python 3",
   "language": "python",
   "name": "python3"
  },
  "language_info": {
   "codemirror_mode": {
    "name": "ipython",
    "version": 3
   },
   "file_extension": ".py",
   "mimetype": "text/x-python",
   "name": "python",
   "nbconvert_exporter": "python",
   "pygments_lexer": "ipython3",
   "version": "3.10.12"
  }
 },
 "nbformat": 4,
 "nbformat_minor": 2
}

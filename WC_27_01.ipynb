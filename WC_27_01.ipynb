{
 "cells": [
  {
   "cell_type": "code",
   "execution_count": 23,
   "metadata": {},
   "outputs": [],
   "source": [
    "#Some standard imports for all things python!\n",
    "import numpy as np # For numerical operations\n",
    "import scipy as sp # For scientific operations\n",
    "\n",
    "import os\n",
    "import subprocess\n",
    "import sys\n",
    "\n",
    "import matplotlib.pyplot as plt\n",
    "import matplotlib.ticker as plticker #For adjusting the location frequency of ticks"
   ]
  },
  {
   "cell_type": "code",
   "execution_count": 21,
   "metadata": {},
   "outputs": [],
   "source": [
    "#In case you don't have the required packages, we can install them for you\n",
    "\n",
    "try:\n",
    "    from ase.io import read, write\n",
    "except ImportError:\n",
    "    print(\"No ASE found. Installing it now.\")\n",
    "    subprocess.run([\"pip\", \"install\", \"ase\"])\n",
    "try:\n",
    "    import pyGDM2\n",
    "except ImportError:\n",
    "    print(\"No GDM found. Installing it now.\")\n",
    "    subprocess.run([\"pip\", \"install\", \"pyGDM2\"])"
   ]
  },
  {
   "cell_type": "code",
   "execution_count": 22,
   "metadata": {},
   "outputs": [],
   "source": [
    "#Now we add in those sub-modules that we have been developing\n",
    "sys.path.insert(0, 'Light/'); sys.path.insert(0, 'Building/')\n",
    "\n",
    "#This is a bit of a bullshit way to do this, but it works for now\n",
    "from Light import * #For optical response with the pygdm package \n",
    "from Building import * #For constructing the nanoparticles"
   ]
  }
 ],
 "metadata": {
  "kernelspec": {
   "display_name": "Python 3",
   "language": "python",
   "name": "python3"
  },
  "language_info": {
   "codemirror_mode": {
    "name": "ipython",
    "version": 3
   },
   "file_extension": ".py",
   "mimetype": "text/x-python",
   "name": "python",
   "nbconvert_exporter": "python",
   "pygments_lexer": "ipython3",
   "version": "3.10.12"
  }
 },
 "nbformat": 4,
 "nbformat_minor": 2
}

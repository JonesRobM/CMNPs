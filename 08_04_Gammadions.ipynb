{
 "cells": [
  {
   "cell_type": "code",
   "execution_count": 1,
   "id": "4be62112",
   "metadata": {},
   "outputs": [],
   "source": [
    "from pyGDM2 import structures\n",
    "from pyGDM2 import materials\n",
    "from pyGDM2 import fields\n",
    "\n",
    "from pyGDM2 import core\n",
    "from pyGDM2 import propagators\n",
    "from pyGDM2 import tools\n",
    "from pyGDM2 import linear\n",
    "from pyGDM2 import visu\n",
    "\n",
    "import numpy as np\n",
    "import matplotlib.pyplot as plt"
   ]
  },
  {
   "cell_type": "code",
   "execution_count": 37,
   "id": "23eb1592",
   "metadata": {},
   "outputs": [],
   "source": [
    "import numpy as np\n",
    "\n",
    "# Function to generate hexagon mesh points\n",
    "def generate_hexagon(side_length):\n",
    "    points = []\n",
    "    for i in range(12):\n",
    "        angle = np.pi / 3 * i\n",
    "        x = side_length * np.cos(angle)\n",
    "        y = side_length * np.sin(angle)\n",
    "        points.append((x, y, 0))\n",
    "    return np.array(points)\n",
    "\n",
    "def Make_L(\n",
    "        length=100,\n",
    "        width=100,\n",
    "        cut_l = 100,\n",
    "        cut_r = 0,\n",
    "        cut_up = 0,\n",
    "        step=5,\n",
    "        H=4,\n",
    "        material='Au',\n",
    "        left = True\n",
    "):\n",
    "\n",
    "    full_geo = structures.rect_wire(step, L=int(length/step), W=int(width/step), H=H)\n",
    "    full_geo = full_geo[np.logical_not(np.logical_and(np.logical_and(\n",
    "                    full_geo.T[0]>cut_r,\n",
    "                    full_geo.T[0]<=cut_l),\n",
    "                    full_geo.T[1]<=cut_up) )]\n",
    "    \n",
    "    if left:\n",
    "        full_geo.T[0] = full_geo.T[0]*-1\n",
    "\n",
    "    #m = getattr(Epsilon_ExpClass, material)()\n",
    "    #struct = structures.struct(step, full_geo, m)\n",
    "\n",
    "    return full_geo\n",
    "\n"
   ]
  },
  {
   "cell_type": "code",
   "execution_count": null,
   "id": "29071958",
   "metadata": {},
   "outputs": [],
   "source": [
    "# Generate hexagon mesh points\n",
    "side_length = 10\n",
    "hexagon_points = generate_hexagon(side_length)\n",
    "\n",
    "#plt.scatter(hexagon_points[:, 0], hexagon_points[:, 1], c='blue', marker='h', s = 2000)   \n",
    "plt.xlim(-50, 50)\n",
    "plt.ylim(-50, 50)\n",
    "# Display the points\n",
    "print(\"Hexagon Mesh Points:\")\n",
    "print(hexagon_points)"
   ]
  },
  {
   "cell_type": "code",
   "execution_count": 4,
   "id": "e381c40d",
   "metadata": {},
   "outputs": [
    {
     "name": "stdout",
     "output_type": "stream",
     "text": [
      "structure initialization - automatic mesh detection: hex\n",
      "structure initialization - consistency check: 844/844 dipoles valid\n"
     ]
    },
    {
     "data": {
      "image/png": "[encoded data removed]",
      "text/plain": [
       "<Figure size 640x480 with 1 Axes>"
      ]
     },
     "metadata": {},
     "output_type": "display_data"
    },
    {
     "name": "stdout",
     "output_type": "stream",
     "text": [
      "N_dipoles sim = 844\n"
     ]
    }
   ],
   "source": [
    "mesh = 'hex'\n",
    "step = 20\n",
    "\n",
    "## rebuild structure from Giessen paper\n",
    "## (Schäferling et al. PRX 2, 031010 (2012))\n",
    "full_geo = structures.rect_wire(step, L=int(400/step), W=int(400/step), H=2, mesh=mesh)\n",
    "full_geo = full_geo[np.logical_not(np.logical_and(np.logical_and(\n",
    "                full_geo.T[0]>40,\n",
    "                full_geo.T[0]<=120),\n",
    "                full_geo.T[1]<=-40) )]\n",
    "\n",
    "material = materials.gold()\n",
    "struct = structures.struct(step, full_geo, material)\n",
    "\n",
    "## --- Setup incident field: LCP and RCP plane wave\n",
    "field_generator = fields.plane_wave\n",
    "wavelengths = [2500]\n",
    "kwargs = dict(inc_angle=180, E_s=1, E_p=1, phase_Es=[-np.pi/2, np.pi/2])    # LCP, RCP\n",
    "efield = fields.efield(field_generator, wavelengths=wavelengths, kwargs=kwargs)\n",
    "\n",
    "## --- environment: vacuum\n",
    "dyads = propagators.DyadsQuasistatic123(n1=1)\n",
    "\n",
    "\n",
    "sim = core.simulation(struct, efield, dyads)\n",
    "\n",
    "visu.structure(sim)\n",
    "print ('N_dipoles sim =', len(sim.struct.geometry))"
   ]
  }
 ],
 "metadata": {
  "kernelspec": {
   "display_name": "CompEnv",
   "language": "python",
   "name": "python3"
  },
  "language_info": {
   "codemirror_mode": {
    "name": "ipython",
    "version": 3
   },
   "file_extension": ".py",
   "mimetype": "text/x-python",
   "name": "python",
   "nbconvert_exporter": "python",
   "pygments_lexer": "ipython3",
   "version": "3.11.5"
  }
 },
 "nbformat": 4,
 "nbformat_minor": 5
}

{
 "cells": [
  {
   "cell_type": "code",
   "execution_count": 3,
   "metadata": {},
   "outputs": [],
   "source": [
    "#Some standard imports for all things python!\n",
    "import numpy as np # For numerical operations\n",
    "import scipy as sp # For scientific operations\n",
    "\n",
    "import os\n",
    "import subprocess\n",
    "import sys\n",
    "\n",
    "import matplotlib.pyplot as plt\n",
    "import matplotlib.ticker as plticker #For adjusting the location frequency of ticks"
   ]
  },
  {
   "cell_type": "code",
   "execution_count": 4,
   "metadata": {},
   "outputs": [],
   "source": [
    "#In case you don't have the required packages, we can install them for you\n",
    "\n",
    "try:\n",
    "    from ase.io import read, write\n",
    "except ImportError:\n",
    "    print(\"No ASE found. Installing it now.\")\n",
    "    subprocess.run([\"pip\", \"install\", \"ase\"])\n",
    "try:\n",
    "    import pyGDM2\n",
    "except ImportError:\n",
    "    print(\"No GDM found. Installing it now.\")\n",
    "    subprocess.run([\"pip\", \"install\", \"pyGDM2\"])"
   ]
  },
  {
   "cell_type": "code",
   "execution_count": 5,
   "metadata": {},
   "outputs": [],
   "source": [
    "#Now we add in those sub-modules that we have been developing\n",
    "sys.path.insert(0, 'Light/'); sys.path.insert(0, 'Building/')\n",
    "\n",
    "#This is a bit of a bullshit way to do this, but it works for now\n",
    "from Light import Spectra, Epsilon_ExpClass #For optical response with the pygdm package \n",
    "\n",
    "from Building.nano_oct import Nanoct \n",
    "from Building.nanodeca import Nanodeca\n",
    "from Building.nanoico import Nanoalloy"
   ]
  },
  {
   "cell_type": "code",
   "execution_count": 6,
   "metadata": {},
   "outputs": [
    {
     "ename": "ValueError",
     "evalue": "setting an array element with a sequence. The requested array has an inhomogeneous shape after 1 dimensions. The detected shape was (3,) + inhomogeneous part.",
     "output_type": "error",
     "traceback": [
      "\u001b[1;31m---------------------------------------------------------------------------\u001b[0m",
      "\u001b[1;31mValueError\u001b[0m                                Traceback (most recent call last)",
      "Cell \u001b[1;32mIn[6], line 1\u001b[0m\n\u001b[1;32m----> 1\u001b[0m Nanoalloy\u001b[38;5;241m.\u001b[39mcreate_alloy_ico([\u001b[38;5;124m'\u001b[39m\u001b[38;5;124mCu\u001b[39m\u001b[38;5;124m'\u001b[39m,\u001b[38;5;124m'\u001b[39m\u001b[38;5;124mAu\u001b[39m\u001b[38;5;124m'\u001b[39m, \u001b[38;5;124m\"\u001b[39m\u001b[38;5;124mPt\u001b[39m\u001b[38;5;124m\"\u001b[39m], \u001b[38;5;241m4\u001b[39m, \u001b[38;5;241m3.65\u001b[39m, \u001b[38;5;124m\"\u001b[39m\u001b[38;5;124m4_layers.xyz\u001b[39m\u001b[38;5;124m\"\u001b[39m)\n",
      "File \u001b[1;32mc:\\Users\\jones\\Documents\\Atto\\Admin\\MSC_24-25\\CMNPs\\CMNPs\\Building\\nanoico.py:179\u001b[0m, in \u001b[0;36mNanoalloy.create_alloy_ico\u001b[1;34m(cls, element, noshells, lattice_const, output_file)\u001b[0m\n\u001b[0;32m    177\u001b[0m \u001b[38;5;28;01mfor\u001b[39;00m i \u001b[38;5;129;01min\u001b[39;00m \u001b[38;5;28mrange\u001b[39m(\u001b[38;5;241m1\u001b[39m,noshells):\n\u001b[0;32m    178\u001b[0m     alloy_temp\u001b[38;5;241m.\u001b[39mappend(\u001b[38;5;28mcls\u001b[39m\u001b[38;5;241m.\u001b[39m_icosahedron_alloy(i,lattice_const))\n\u001b[1;32m--> 179\u001b[0m alloy_temp\u001b[38;5;241m=\u001b[39mnp\u001b[38;5;241m.\u001b[39marray(alloy_temp)\n\u001b[0;32m    181\u001b[0m alloy \u001b[38;5;241m=\u001b[39m []\n\u001b[0;32m    182\u001b[0m \u001b[38;5;28;01mfor\u001b[39;00m i \u001b[38;5;129;01min\u001b[39;00m \u001b[38;5;28mrange\u001b[39m(\u001b[38;5;241m0\u001b[39m,\u001b[38;5;28mlen\u001b[39m(alloy_temp)):\n",
      "\u001b[1;31mValueError\u001b[0m: setting an array element with a sequence. The requested array has an inhomogeneous shape after 1 dimensions. The detected shape was (3,) + inhomogeneous part."
     ]
    }
   ],
   "source": [
    "Nanoalloy.create_alloy_ico(['Cu','Au', \"Pt\"], 4, 3.65, \"4_layers.xyz\")"
   ]
  },
  {
   "cell_type": "code",
   "execution_count": null,
   "metadata": {},
   "outputs": [],
   "source": []
  },
  {
   "cell_type": "code",
   "execution_count": null,
   "metadata": {},
   "outputs": [],
   "source": []
  }
 ],
 "metadata": {
  "kernelspec": {
   "display_name": "CompEnv",
   "language": "python",
   "name": "python3"
  },
  "language_info": {
   "codemirror_mode": {
    "name": "ipython",
    "version": 3
   },
   "file_extension": ".py",
   "mimetype": "text/x-python",
   "name": "python",
   "nbconvert_exporter": "python",
   "pygments_lexer": "ipython3",
   "version": "3.11.5"
  }
 },
 "nbformat": 4,
 "nbformat_minor": 2
}
